{
  "nbformat": 4,
  "nbformat_minor": 0,
  "metadata": {
    "colab": {
      "name": "CNN_CIFAR-10.ipynb",
      "provenance": [],
      "authorship_tag": "ABX9TyPoxDjBmFMMjuk6sKckjqJV",
      "include_colab_link": true
    },
    "kernelspec": {
      "name": "python3",
      "display_name": "Python 3"
    }
  },
  "cells": [
    {
      "cell_type": "markdown",
      "metadata": {
        "id": "view-in-github",
        "colab_type": "text"
      },
      "source": [
        "<a href=\"https://colab.research.google.com/github/iqbalamo93/kerasTF/blob/master/CNN_CIFAR_10.ipynb\" target=\"_parent\"><img src=\"https://colab.research.google.com/assets/colab-badge.svg\" alt=\"Open In Colab\"/></a>"
      ]
    },
    {
      "cell_type": "code",
      "metadata": {
        "id": "53HMSfRwca23",
        "colab_type": "code",
        "colab": {}
      },
      "source": [
        "import pandas as pd\n",
        "import numpy as np\n",
        "import matplotlib.pyplot as plt\n",
        "%matplotlib inline"
      ],
      "execution_count": 1,
      "outputs": []
    },
    {
      "cell_type": "code",
      "metadata": {
        "id": "2Ln3NY70fhQz",
        "colab_type": "code",
        "colab": {}
      },
      "source": [
        "from tensorflow.keras.datasets import cifar10"
      ],
      "execution_count": 2,
      "outputs": []
    },
    {
      "cell_type": "code",
      "metadata": {
        "id": "f5vEZieufoSz",
        "colab_type": "code",
        "colab": {
          "base_uri": "https://localhost:8080/",
          "height": 52
        },
        "outputId": "92fd8a25-db6f-48f6-e223-c36b3da2941f"
      },
      "source": [
        "(x_train,y_train),(x_test,y_test)= cifar10.load_data()"
      ],
      "execution_count": 3,
      "outputs": [
        {
          "output_type": "stream",
          "text": [
            "Downloading data from https://www.cs.toronto.edu/~kriz/cifar-10-python.tar.gz\n",
            "170500096/170498071 [==============================] - 11s 0us/step\n"
          ],
          "name": "stdout"
        }
      ]
    },
    {
      "cell_type": "code",
      "metadata": {
        "id": "Tr5EjKYEf1zC",
        "colab_type": "code",
        "colab": {
          "base_uri": "https://localhost:8080/",
          "height": 35
        },
        "outputId": "5f976ee6-024e-44f9-d30c-22f05d999c69"
      },
      "source": [
        "x_train.shape"
      ],
      "execution_count": 4,
      "outputs": [
        {
          "output_type": "execute_result",
          "data": {
            "text/plain": [
              "(50000, 32, 32, 3)"
            ]
          },
          "metadata": {
            "tags": []
          },
          "execution_count": 4
        }
      ]
    },
    {
      "cell_type": "code",
      "metadata": {
        "id": "Hk6c9XLagvzK",
        "colab_type": "code",
        "colab": {
          "base_uri": "https://localhost:8080/",
          "height": 867
        },
        "outputId": "dbe6341d-2017-4671-e1fb-d243403fb413"
      },
      "source": [
        "x_train[0]"
      ],
      "execution_count": 5,
      "outputs": [
        {
          "output_type": "execute_result",
          "data": {
            "text/plain": [
              "array([[[ 59,  62,  63],\n",
              "        [ 43,  46,  45],\n",
              "        [ 50,  48,  43],\n",
              "        ...,\n",
              "        [158, 132, 108],\n",
              "        [152, 125, 102],\n",
              "        [148, 124, 103]],\n",
              "\n",
              "       [[ 16,  20,  20],\n",
              "        [  0,   0,   0],\n",
              "        [ 18,   8,   0],\n",
              "        ...,\n",
              "        [123,  88,  55],\n",
              "        [119,  83,  50],\n",
              "        [122,  87,  57]],\n",
              "\n",
              "       [[ 25,  24,  21],\n",
              "        [ 16,   7,   0],\n",
              "        [ 49,  27,   8],\n",
              "        ...,\n",
              "        [118,  84,  50],\n",
              "        [120,  84,  50],\n",
              "        [109,  73,  42]],\n",
              "\n",
              "       ...,\n",
              "\n",
              "       [[208, 170,  96],\n",
              "        [201, 153,  34],\n",
              "        [198, 161,  26],\n",
              "        ...,\n",
              "        [160, 133,  70],\n",
              "        [ 56,  31,   7],\n",
              "        [ 53,  34,  20]],\n",
              "\n",
              "       [[180, 139,  96],\n",
              "        [173, 123,  42],\n",
              "        [186, 144,  30],\n",
              "        ...,\n",
              "        [184, 148,  94],\n",
              "        [ 97,  62,  34],\n",
              "        [ 83,  53,  34]],\n",
              "\n",
              "       [[177, 144, 116],\n",
              "        [168, 129,  94],\n",
              "        [179, 142,  87],\n",
              "        ...,\n",
              "        [216, 184, 140],\n",
              "        [151, 118,  84],\n",
              "        [123,  92,  72]]], dtype=uint8)"
            ]
          },
          "metadata": {
            "tags": []
          },
          "execution_count": 5
        }
      ]
    },
    {
      "cell_type": "code",
      "metadata": {
        "id": "zpHSnWx9gZPu",
        "colab_type": "code",
        "colab": {
          "base_uri": "https://localhost:8080/",
          "height": 867
        },
        "outputId": "d43f1620-a01e-40df-b7b9-f9b18883c7fe"
      },
      "source": [
        "x_train[0]"
      ],
      "execution_count": 6,
      "outputs": [
        {
          "output_type": "execute_result",
          "data": {
            "text/plain": [
              "array([[[ 59,  62,  63],\n",
              "        [ 43,  46,  45],\n",
              "        [ 50,  48,  43],\n",
              "        ...,\n",
              "        [158, 132, 108],\n",
              "        [152, 125, 102],\n",
              "        [148, 124, 103]],\n",
              "\n",
              "       [[ 16,  20,  20],\n",
              "        [  0,   0,   0],\n",
              "        [ 18,   8,   0],\n",
              "        ...,\n",
              "        [123,  88,  55],\n",
              "        [119,  83,  50],\n",
              "        [122,  87,  57]],\n",
              "\n",
              "       [[ 25,  24,  21],\n",
              "        [ 16,   7,   0],\n",
              "        [ 49,  27,   8],\n",
              "        ...,\n",
              "        [118,  84,  50],\n",
              "        [120,  84,  50],\n",
              "        [109,  73,  42]],\n",
              "\n",
              "       ...,\n",
              "\n",
              "       [[208, 170,  96],\n",
              "        [201, 153,  34],\n",
              "        [198, 161,  26],\n",
              "        ...,\n",
              "        [160, 133,  70],\n",
              "        [ 56,  31,   7],\n",
              "        [ 53,  34,  20]],\n",
              "\n",
              "       [[180, 139,  96],\n",
              "        [173, 123,  42],\n",
              "        [186, 144,  30],\n",
              "        ...,\n",
              "        [184, 148,  94],\n",
              "        [ 97,  62,  34],\n",
              "        [ 83,  53,  34]],\n",
              "\n",
              "       [[177, 144, 116],\n",
              "        [168, 129,  94],\n",
              "        [179, 142,  87],\n",
              "        ...,\n",
              "        [216, 184, 140],\n",
              "        [151, 118,  84],\n",
              "        [123,  92,  72]]], dtype=uint8)"
            ]
          },
          "metadata": {
            "tags": []
          },
          "execution_count": 6
        }
      ]
    },
    {
      "cell_type": "code",
      "metadata": {
        "id": "XxHzScuqf83A",
        "colab_type": "code",
        "colab": {
          "base_uri": "https://localhost:8080/",
          "height": 35
        },
        "outputId": "4df447c8-8e10-4d70-d97b-03ba4fd0da70"
      },
      "source": [
        "x_train[0].shape"
      ],
      "execution_count": 7,
      "outputs": [
        {
          "output_type": "execute_result",
          "data": {
            "text/plain": [
              "(32, 32, 3)"
            ]
          },
          "metadata": {
            "tags": []
          },
          "execution_count": 7
        }
      ]
    },
    {
      "cell_type": "code",
      "metadata": {
        "id": "OHteqWoWf_gP",
        "colab_type": "code",
        "colab": {
          "base_uri": "https://localhost:8080/",
          "height": 572
        },
        "outputId": "d47c4bdb-c5fb-45b9-ba5b-59efd84841c1"
      },
      "source": [
        "x_train[0][0]"
      ],
      "execution_count": 8,
      "outputs": [
        {
          "output_type": "execute_result",
          "data": {
            "text/plain": [
              "array([[ 59,  62,  63],\n",
              "       [ 43,  46,  45],\n",
              "       [ 50,  48,  43],\n",
              "       [ 68,  54,  42],\n",
              "       [ 98,  73,  52],\n",
              "       [119,  91,  63],\n",
              "       [139, 107,  75],\n",
              "       [145, 110,  80],\n",
              "       [149, 117,  89],\n",
              "       [149, 120,  93],\n",
              "       [131, 103,  77],\n",
              "       [125,  99,  76],\n",
              "       [142, 115,  91],\n",
              "       [144, 112,  86],\n",
              "       [137, 105,  79],\n",
              "       [129,  97,  71],\n",
              "       [137, 106,  79],\n",
              "       [134, 106,  76],\n",
              "       [124,  97,  64],\n",
              "       [139, 113,  78],\n",
              "       [139, 112,  75],\n",
              "       [133, 105,  69],\n",
              "       [136, 105,  74],\n",
              "       [139, 108,  77],\n",
              "       [152, 120,  89],\n",
              "       [163, 131, 100],\n",
              "       [168, 136, 108],\n",
              "       [159, 129, 102],\n",
              "       [158, 130, 104],\n",
              "       [158, 132, 108],\n",
              "       [152, 125, 102],\n",
              "       [148, 124, 103]], dtype=uint8)"
            ]
          },
          "metadata": {
            "tags": []
          },
          "execution_count": 8
        }
      ]
    },
    {
      "cell_type": "code",
      "metadata": {
        "id": "R34Nhqz9gKXQ",
        "colab_type": "code",
        "colab": {
          "base_uri": "https://localhost:8080/",
          "height": 572
        },
        "outputId": "c9c0253b-97fc-4ffe-837e-71ff23ca3ee6"
      },
      "source": [
        "x_train[0][31]"
      ],
      "execution_count": 9,
      "outputs": [
        {
          "output_type": "execute_result",
          "data": {
            "text/plain": [
              "array([[177, 144, 116],\n",
              "       [168, 129,  94],\n",
              "       [179, 142,  87],\n",
              "       [188, 149,  67],\n",
              "       [202, 168,  68],\n",
              "       [218, 189,  76],\n",
              "       [218, 191,  72],\n",
              "       [207, 181,  70],\n",
              "       [191, 163,  79],\n",
              "       [175, 143,  82],\n",
              "       [166, 132,  86],\n",
              "       [163, 128,  92],\n",
              "       [163, 127,  94],\n",
              "       [161, 123,  92],\n",
              "       [153, 114,  84],\n",
              "       [159, 120,  90],\n",
              "       [162, 124,  93],\n",
              "       [149, 116,  91],\n",
              "       [140, 104,  83],\n",
              "       [148, 103,  77],\n",
              "       [161, 105,  69],\n",
              "       [144,  95,  55],\n",
              "       [112,  90,  59],\n",
              "       [119,  91,  58],\n",
              "       [130,  96,  65],\n",
              "       [120,  87,  59],\n",
              "       [ 92,  67,  46],\n",
              "       [103,  78,  57],\n",
              "       [170, 140, 104],\n",
              "       [216, 184, 140],\n",
              "       [151, 118,  84],\n",
              "       [123,  92,  72]], dtype=uint8)"
            ]
          },
          "metadata": {
            "tags": []
          },
          "execution_count": 9
        }
      ]
    },
    {
      "cell_type": "code",
      "metadata": {
        "id": "txZ6F0hrgN0J",
        "colab_type": "code",
        "colab": {
          "base_uri": "https://localhost:8080/",
          "height": 283
        },
        "outputId": "1ef12f09-f3d7-49dd-d74d-0ef80ff970aa"
      },
      "source": [
        "plt.imshow(x_train[12])"
      ],
      "execution_count": 10,
      "outputs": [
        {
          "output_type": "execute_result",
          "data": {
            "text/plain": [
              "<matplotlib.image.AxesImage at 0x7fc9ac706160>"
            ]
          },
          "metadata": {
            "tags": []
          },
          "execution_count": 10
        },
        {
          "output_type": "display_data",
          "data": {
            "image/png": "[encoded data removed]",
            "text/plain": [
              "<Figure size 432x288 with 1 Axes>"
            ]
          },
          "metadata": {
            "tags": [],
            "needs_background": "light"
          }
        }
      ]
    },
    {
      "cell_type": "code",
      "metadata": {
        "id": "Nn-UecGyQ71m",
        "colab_type": "code",
        "colab": {}
      },
      "source": [
        "x_train =x_train/255"
      ],
      "execution_count": 11,
      "outputs": []
    },
    {
      "cell_type": "code",
      "metadata": {
        "id": "-q1WZrXDRJkS",
        "colab_type": "code",
        "colab": {}
      },
      "source": [
        "x_teat = x_test/255"
      ],
      "execution_count": 12,
      "outputs": []
    },
    {
      "cell_type": "code",
      "metadata": {
        "id": "cS7cILVTRM5g",
        "colab_type": "code",
        "colab": {
          "base_uri": "https://localhost:8080/",
          "height": 139
        },
        "outputId": "6d42e00d-6063-41cb-dda9-34a0bef8af9b"
      },
      "source": [
        "y_train"
      ],
      "execution_count": 13,
      "outputs": [
        {
          "output_type": "execute_result",
          "data": {
            "text/plain": [
              "array([[6],\n",
              "       [9],\n",
              "       [9],\n",
              "       ...,\n",
              "       [9],\n",
              "       [1],\n",
              "       [1]], dtype=uint8)"
            ]
          },
          "metadata": {
            "tags": []
          },
          "execution_count": 13
        }
      ]
    },
    {
      "cell_type": "code",
      "metadata": {
        "id": "i6u0sMhERQGw",
        "colab_type": "code",
        "colab": {}
      },
      "source": [
        "from tensorflow.keras.utils import to_categorical"
      ],
      "execution_count": 14,
      "outputs": []
    },
    {
      "cell_type": "code",
      "metadata": {
        "id": "3QXEevY2a_Uu",
        "colab_type": "code",
        "colab": {}
      },
      "source": [
        "y_cat_train = to_categorical(y_train,10)"
      ],
      "execution_count": 15,
      "outputs": []
    },
    {
      "cell_type": "code",
      "metadata": {
        "id": "AzxH0NLfbI99",
        "colab_type": "code",
        "colab": {}
      },
      "source": [
        "y_cat_test = to_categorical(y_test,10)"
      ],
      "execution_count": 16,
      "outputs": []
    },
    {
      "cell_type": "code",
      "metadata": {
        "id": "vuHXtJoXbVkc",
        "colab_type": "code",
        "colab": {}
      },
      "source": [
        " from tensorflow.keras.models import Sequential"
      ],
      "execution_count": 17,
      "outputs": []
    },
    {
      "cell_type": "code",
      "metadata": {
        "id": "X8i6GpFVggdl",
        "colab_type": "code",
        "colab": {}
      },
      "source": [
        "from tensorflow.keras.layers import Conv2D, MaxPool2D, Flatten, Dense"
      ],
      "execution_count": 18,
      "outputs": []
    },
    {
      "cell_type": "code",
      "metadata": {
        "id": "xbfY6ZpiiMLz",
        "colab_type": "code",
        "colab": {}
      },
      "source": [
        "model = Sequential()\n",
        "\n",
        "#Convolutional Layer\n",
        "model.add(Conv2D(filters=32,kernel_size=(4,4),input_shape=(32,32,3),activation='relu'))\n",
        "#Pooling Layer\n",
        "model.add(MaxPool2D(pool_size=(2,2)))\n",
        "#Convolutional Layer\n",
        "model.add(Conv2D(filters=32,kernel_size=(4,4),input_shape=(32,32,3),activation='relu'))\n",
        "#Pooling Layer\n",
        "model.add(MaxPool2D(pool_size=(2,2)))\n",
        "\n",
        "model.add(Flatten())\n",
        "model.add(Dense(256,activation='relu'))\n",
        "model.add(Dense(10,activation='softmax'))\n",
        "\n",
        "#Compiling the model\n",
        "model.compile(loss='categorical_crossentropy',optimizer='adam',metrics=['accuracy'])"
      ],
      "execution_count": 19,
      "outputs": []
    },
    {
      "cell_type": "code",
      "metadata": {
        "id": "6hwDD1Jcji9q",
        "colab_type": "code",
        "colab": {
          "base_uri": "https://localhost:8080/",
          "height": 399
        },
        "outputId": "a873c0db-8737-4342-e03f-0d3279db72fb"
      },
      "source": [
        "model.summary()"
      ],
      "execution_count": 20,
      "outputs": [
        {
          "output_type": "stream",
          "text": [
            "Model: \"sequential\"\n",
            "_________________________________________________________________\n",
            "Layer (type)                 Output Shape              Param #   \n",
            "=================================================================\n",
            "conv2d (Conv2D)              (None, 29, 29, 32)        1568      \n",
            "_________________________________________________________________\n",
            "max_pooling2d (MaxPooling2D) (None, 14, 14, 32)        0         \n",
            "_________________________________________________________________\n",
            "conv2d_1 (Conv2D)            (None, 11, 11, 32)        16416     \n",
            "_________________________________________________________________\n",
            "max_pooling2d_1 (MaxPooling2 (None, 5, 5, 32)          0         \n",
            "_________________________________________________________________\n",
            "flatten (Flatten)            (None, 800)               0         \n",
            "_________________________________________________________________\n",
            "dense (Dense)                (None, 256)               205056    \n",
            "_________________________________________________________________\n",
            "dense_1 (Dense)              (None, 10)                2570      \n",
            "=================================================================\n",
            "Total params: 225,610\n",
            "Trainable params: 225,610\n",
            "Non-trainable params: 0\n",
            "_________________________________________________________________\n"
          ],
          "name": "stdout"
        }
      ]
    },
    {
      "cell_type": "code",
      "metadata": {
        "id": "6NV-h3pEtC7J",
        "colab_type": "code",
        "colab": {}
      },
      "source": [
        "from tensorflow.keras.callbacks import EarlyStopping"
      ],
      "execution_count": 21,
      "outputs": []
    },
    {
      "cell_type": "code",
      "metadata": {
        "id": "6wqh5GZrur9t",
        "colab_type": "code",
        "colab": {}
      },
      "source": [
        "early_stop = EarlyStopping(monitor='val_loss',patience=5)"
      ],
      "execution_count": 22,
      "outputs": []
    },
    {
      "cell_type": "code",
      "metadata": {
        "id": "tErV6aawu1Yg",
        "colab_type": "code",
        "colab": {
          "base_uri": "https://localhost:8080/",
          "height": 347
        },
        "outputId": "db9f0b44-c4a2-4388-8523-58f8967abf04"
      },
      "source": [
        "model.fit(x_train,y_cat_train,epochs=18,validation_data=(x_test,y_cat_test),callbacks=[early_stop])"
      ],
      "execution_count": 23,
      "outputs": [
        {
          "output_type": "stream",
          "text": [
            "Epoch 1/18\n",
            "1563/1563 [==============================] - 60s 39ms/step - loss: 1.5170 - accuracy: 0.4498 - val_loss: 234.1370 - val_accuracy: 0.4164\n",
            "Epoch 2/18\n",
            "1563/1563 [==============================] - 60s 38ms/step - loss: 1.1773 - accuracy: 0.5842 - val_loss: 200.5998 - val_accuracy: 0.4569\n",
            "Epoch 3/18\n",
            "1563/1563 [==============================] - 61s 39ms/step - loss: 1.0290 - accuracy: 0.6418 - val_loss: 200.8139 - val_accuracy: 0.4658\n",
            "Epoch 4/18\n",
            "1563/1563 [==============================] - 60s 38ms/step - loss: 0.9171 - accuracy: 0.6818 - val_loss: 191.6854 - val_accuracy: 0.5092\n",
            "Epoch 5/18\n",
            "1563/1563 [==============================] - 64s 41ms/step - loss: 0.8299 - accuracy: 0.7131 - val_loss: 228.2672 - val_accuracy: 0.4880\n",
            "Epoch 6/18\n",
            "1563/1563 [==============================] - 60s 38ms/step - loss: 0.7531 - accuracy: 0.7372 - val_loss: 273.6930 - val_accuracy: 0.4785\n",
            "Epoch 7/18\n",
            "1563/1563 [==============================] - 60s 38ms/step - loss: 0.6833 - accuracy: 0.7624 - val_loss: 242.7635 - val_accuracy: 0.5334\n",
            "Epoch 8/18\n",
            "1563/1563 [==============================] - 60s 38ms/step - loss: 0.6167 - accuracy: 0.7827 - val_loss: 209.2854 - val_accuracy: 0.5634\n",
            "Epoch 9/18\n",
            "1563/1563 [==============================] - 60s 38ms/step - loss: 0.5572 - accuracy: 0.8041 - val_loss: 277.5716 - val_accuracy: 0.5197\n"
          ],
          "name": "stdout"
        },
        {
          "output_type": "execute_result",
          "data": {
            "text/plain": [
              "<tensorflow.python.keras.callbacks.History at 0x7fc9a53d9a58>"
            ]
          },
          "metadata": {
            "tags": []
          },
          "execution_count": 23
        }
      ]
    },
    {
      "cell_type": "code",
      "metadata": {
        "id": "H7iCdA7cvOzA",
        "colab_type": "code",
        "colab": {}
      },
      "source": [
        "metrics = pd.DataFrame(model.history.history)"
      ],
      "execution_count": 24,
      "outputs": []
    },
    {
      "cell_type": "code",
      "metadata": {
        "id": "EWFRxw5r6Thg",
        "colab_type": "code",
        "colab": {
          "base_uri": "https://localhost:8080/",
          "height": 35
        },
        "outputId": "15964215-4e5a-4508-c10f-3166fcac2e0d"
      },
      "source": [
        "metrics.columns"
      ],
      "execution_count": 25,
      "outputs": [
        {
          "output_type": "execute_result",
          "data": {
            "text/plain": [
              "Index(['loss', 'accuracy', 'val_loss', 'val_accuracy'], dtype='object')"
            ]
          },
          "metadata": {
            "tags": []
          },
          "execution_count": 25
        }
      ]
    },
    {
      "cell_type": "code",
      "metadata": {
        "id": "Dvg_GTxI6aYp",
        "colab_type": "code",
        "colab": {
          "base_uri": "https://localhost:8080/",
          "height": 283
        },
        "outputId": "fd98ed36-0db8-41e0-b0f3-7d0a37e44a93"
      },
      "source": [
        "metrics[['accuracy','val_accuracy']].plot()"
      ],
      "execution_count": 26,
      "outputs": [
        {
          "output_type": "execute_result",
          "data": {
            "text/plain": [
              "<matplotlib.axes._subplots.AxesSubplot at 0x7fc9a0c1dd30>"
            ]
          },
          "metadata": {
            "tags": []
          },
          "execution_count": 26
        },
        {
          "output_type": "display_data",
          "data": {
            "image/png": "[encoded data removed]",
            "text/plain": [
              "<Figure size 432x288 with 1 Axes>"
            ]
          },
          "metadata": {
            "tags": [],
            "needs_background": "light"
          }
        }
      ]
    },
    {
      "cell_type": "code",
      "metadata": {
        "id": "3XmbeH4R7gqz",
        "colab_type": "code",
        "colab": {
          "base_uri": "https://localhost:8080/",
          "height": 52
        },
        "outputId": "fd93e91c-4257-47f5-dfef-70eb93ba4bfb"
      },
      "source": [
        "model.evaluate( x_test,y_cat_test)#same as history"
      ],
      "execution_count": 27,
      "outputs": [
        {
          "output_type": "stream",
          "text": [
            "313/313 [==============================] - 3s 11ms/step - loss: 277.5716 - accuracy: 0.5197\n"
          ],
          "name": "stdout"
        },
        {
          "output_type": "execute_result",
          "data": {
            "text/plain": [
              "[277.5716247558594, 0.5196999907493591]"
            ]
          },
          "metadata": {
            "tags": []
          },
          "execution_count": 27
        }
      ]
    },
    {
      "cell_type": "code",
      "metadata": {
        "id": "DxIMqiHw7-61",
        "colab_type": "code",
        "colab": {}
      },
      "source": [
        "from sklearn.metrics import classification_report,confusion_matrix\n"
      ],
      "execution_count": 28,
      "outputs": []
    },
    {
      "cell_type": "code",
      "metadata": {
        "id": "-kdEkRgX8vW5",
        "colab_type": "code",
        "colab": {
          "base_uri": "https://localhost:8080/",
          "height": 89
        },
        "outputId": "b08682be-c4c2-4043-b632-ff30a99e0047"
      },
      "source": [
        "predictions = model.predict_classes(x_test)"
      ],
      "execution_count": 29,
      "outputs": [
        {
          "output_type": "stream",
          "text": [
            "WARNING:tensorflow:From <ipython-input-29-7de0541c035a>:1: Sequential.predict_classes (from tensorflow.python.keras.engine.sequential) is deprecated and will be removed after 2021-01-01.\n",
            "Instructions for updating:\n",
            "Please use instead:* `np.argmax(model.predict(x), axis=-1)`,   if your model does multi-class classification   (e.g. if it uses a `softmax` last-layer activation).* `(model.predict(x) > 0.5).astype(\"int32\")`,   if your model does binary classification   (e.g. if it uses a `sigmoid` last-layer activation).\n"
          ],
          "name": "stdout"
        }
      ]
    },
    {
      "cell_type": "code",
      "metadata": {
        "id": "muyWyOfg85pA",
        "colab_type": "code",
        "colab": {
          "base_uri": "https://localhost:8080/",
          "height": 312
        },
        "outputId": "0c986476-10aa-41cf-db4a-abd72027b4fb"
      },
      "source": [
        "print(classification_report(y_test,predictions))"
      ],
      "execution_count": 30,
      "outputs": [
        {
          "output_type": "stream",
          "text": [
            "              precision    recall  f1-score   support\n",
            "\n",
            "           0       0.35      0.86      0.50      1000\n",
            "           1       0.74      0.73      0.74      1000\n",
            "           2       0.67      0.21      0.32      1000\n",
            "           3       0.41      0.19      0.26      1000\n",
            "           4       0.79      0.14      0.23      1000\n",
            "           5       0.42      0.66      0.51      1000\n",
            "           6       0.84      0.36      0.50      1000\n",
            "           7       0.52      0.77      0.62      1000\n",
            "           8       0.66      0.55      0.60      1000\n",
            "           9       0.58      0.74      0.65      1000\n",
            "\n",
            "    accuracy                           0.52     10000\n",
            "   macro avg       0.60      0.52      0.49     10000\n",
            "weighted avg       0.60      0.52      0.49     10000\n",
            "\n"
          ],
          "name": "stdout"
        }
      ]
    },
    {
      "cell_type": "code",
      "metadata": {
        "id": "AGyuKWgs9KA4",
        "colab_type": "code",
        "colab": {}
      },
      "source": [
        "my_image=  x_test[0]"
      ],
      "execution_count": 31,
      "outputs": []
    },
    {
      "cell_type": "code",
      "metadata": {
        "id": "RcVY1jNpKdDy",
        "colab_type": "code",
        "colab": {
          "base_uri": "https://localhost:8080/",
          "height": 283
        },
        "outputId": "ca2c9d51-b120-4ba0-f724-919de786e9eb"
      },
      "source": [
        "plt.imshow(my_image)"
      ],
      "execution_count": 33,
      "outputs": [
        {
          "output_type": "execute_result",
          "data": {
            "text/plain": [
              "<matplotlib.image.AxesImage at 0x7fc999b15198>"
            ]
          },
          "metadata": {
            "tags": []
          },
          "execution_count": 33
        },
        {
          "output_type": "display_data",
          "data": {
            "image/png": "[encoded data removed]",
            "text/plain": [
              "<Figure size 432x288 with 1 Axes>"
            ]
          },
          "metadata": {
            "tags": [],
            "needs_background": "light"
          }
        }
      ]
    },
    {
      "cell_type": "code",
      "metadata": {
        "id": "OXxxqfPGKf4z",
        "colab_type": "code",
        "colab": {
          "base_uri": "https://localhost:8080/",
          "height": 35
        },
        "outputId": "0c579bc6-64f0-4b9a-aa34-dd9c78f7db53"
      },
      "source": [
        "model.predict_classes(my_image.reshape(1,32,32,3))"
      ],
      "execution_count": 34,
      "outputs": [
        {
          "output_type": "execute_result",
          "data": {
            "text/plain": [
              "array([3])"
            ]
          },
          "metadata": {
            "tags": []
          },
          "execution_count": 34
        }
      ]
    },
    {
      "cell_type": "code",
      "metadata": {
        "id": "9BQY_B1kKrFv",
        "colab_type": "code",
        "colab": {}
      },
      "source": [
        ""
      ],
      "execution_count": null,
      "outputs": []
    }
  ]
}